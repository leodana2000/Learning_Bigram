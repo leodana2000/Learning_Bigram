{
 "cells": [
  {
   "cell_type": "markdown",
   "metadata": {},
   "source": [
    "# Example for using the codebase\n",
    "\n",
    "This notebook introduces to the functioning of the notebook. Especially:\n",
    "* how to use the models: Transformer and Bigram,\n",
    "* how to create the data,\n",
    "* how to use the interpretability methods."
   ]
  },
  {
   "cell_type": "code",
   "execution_count": null,
   "metadata": {},
   "outputs": [],
   "source": []
  }
 ],
 "metadata": {
  "language_info": {
   "name": "python"
  }
 },
 "nbformat": 4,
 "nbformat_minor": 2
}
